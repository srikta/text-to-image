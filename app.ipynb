{
 "cells": [
  {
   "cell_type": "code",
   "execution_count": 1,
   "metadata": {},
   "outputs": [
    {
     "name": "stdout",
     "output_type": "stream",
     "text": [
      "^C\n",
      "Note: you may need to restart the kernel to use updated packages.\n"
     ]
    }
   ],
   "source": [
    "pip install tensorflow tensorflow-hub nltk\n"
   ]
  },
  {
   "cell_type": "code",
   "execution_count": null,
   "metadata": {},
   "outputs": [],
   "source": [
    "from tensorflow.keras.layers import Embedding, LSTM, Dense\n",
    "\n",
    "def text_encoder(vocab_size, embedding_dim, max_length):\n",
    "    model = tf.keras.Sequential([\n",
    "        Embedding(vocab_size, embedding_dim, input_length=max_length),\n",
    "        LSTM(256, return_sequences=False),\n",
    "        Dense(256, activation='relu')\n",
    "    ])\n",
    "    return model\n"
   ]
  },
  {
   "cell_type": "code",
   "execution_count": null,
   "metadata": {},
   "outputs": [],
   "source": [
    "from tensorflow.keras.layers import Conv2DTranspose, Dense, Reshape, BatchNormalization, ReLU\n",
    "\n",
    "def generator():\n",
    "    model = tf.keras.Sequential([\n",
    "        Dense(4 * 4 * 512, use_bias=False, input_shape=(256,)),  # Input: text embedding\n",
    "        BatchNormalization(),\n",
    "        ReLU(),\n",
    "        Reshape((4, 4, 512)),\n",
    "        Conv2DTranspose(256, (5, 5), strides=(2, 2), padding='same', use_bias=False),\n",
    "        BatchNormalization(),\n",
    "        ReLU(),\n",
    "        Conv2DTranspose(128, (5, 5), strides=(2, 2), padding='same', use_bias=False),\n",
    "        BatchNormalization(),\n",
    "        ReLU(),\n",
    "        Conv2DTranspose(3, (5, 5), strides=(2, 2), padding='same', activation='tanh')  # Output: RGB image\n",
    "    ])\n",
    "    return model\n"
   ]
  },
  {
   "cell_type": "code",
   "execution_count": null,
   "metadata": {},
   "outputs": [],
   "source": [
    "from tensorflow.keras.layers import Conv2D, Flatten, LeakyReLU, Concatenate\n",
    "\n",
    "def discriminator():\n",
    "    image_input = tf.keras.Input(shape=(64, 64, 3))\n",
    "    text_input = tf.keras.Input(shape=(256,))\n",
    "\n",
    "    x = Conv2D(64, (5, 5), strides=(2, 2), padding='same')(image_input)\n",
    "    x = LeakyReLU(0.2)(x)\n",
    "    x = Conv2D(128, (5, 5), strides=(2, 2), padding='same')(x)\n",
    "    x = LeakyReLU(0.2)(x)\n",
    "    x = Flatten()(x)\n",
    "\n",
    "    combined = Concatenate()([x, text_input])\n",
    "    combined = Dense(1, activation='sigmoid')(combined)\n",
    "\n",
    "    return tf.keras.Model([image_input, text_input], combined)\n"
   ]
  },
  {
   "cell_type": "code",
   "execution_count": null,
   "metadata": {},
   "outputs": [],
   "source": [
    "cross_entropy = tf.keras.losses.BinaryCrossentropy(from_logits=True)\n",
    "\n",
    "def generator_loss(fake_output):\n",
    "    return cross_entropy(tf.ones_like(fake_output), fake_output)\n",
    "\n",
    "def discriminator_loss(real_output, fake_output):\n",
    "    real_loss = cross_entropy(tf.ones_like(real_output), real_output)\n",
    "    fake_loss = cross_entropy(tf.zeros_like(fake_output), fake_output)\n",
    "    return real_loss + fake_loss\n"
   ]
  },
  {
   "cell_type": "code",
   "execution_count": null,
   "metadata": {},
   "outputs": [],
   "source": [
    "@tf.function\n",
    "def train_step(generator, discriminator, text_input, image_input, text_embedding, optimizer_gen, optimizer_disc):\n",
    "    with tf.GradientTape() as gen_tape, tf.GradientTape() as disc_tape:\n",
    "        generated_images = generator(text_embedding, training=True)\n",
    "        real_output = discriminator([image_input, text_embedding], training=True)\n",
    "        fake_output = discriminator([generated_images, text_embedding], training=True)\n",
    "\n",
    "        gen_loss = generator_loss(fake_output)\n",
    "        disc_loss = discriminator_loss(real_output, fake_output)\n",
    "\n",
    "    gradients_gen = gen_tape.gradient(gen_loss, generator.trainable_variables)\n",
    "    gradients_disc = disc_tape.gradient(disc_loss, discriminator.trainable_variables)\n",
    "\n",
    "    optimizer_gen.apply_gradients(zip(gradients_gen, generator.trainable_variables))\n",
    "    optimizer_disc.apply_gradients(zip(gradients_disc, discriminator.trainable_variables))\n"
   ]
  },
  {
   "cell_type": "code",
   "execution_count": null,
   "metadata": {},
   "outputs": [],
   "source": [
    "def generate_and_save_images(generator, text_embedding, epoch):\n",
    "    predictions = generator(text_embedding, training=False)\n",
    "    # Convert to displayable format\n",
    "    for i in range(predictions.shape[0]):\n",
    "        plt.imshow((predictions[i] + 1) / 2)\n",
    "        plt.axis('off')\n",
    "    plt.show()\n"
   ]
  }
 ],
 "metadata": {
  "kernelspec": {
   "display_name": "base",
   "language": "python",
   "name": "python3"
  },
  "language_info": {
   "codemirror_mode": {
    "name": "ipython",
    "version": 3
   },
   "file_extension": ".py",
   "mimetype": "text/x-python",
   "name": "python",
   "nbconvert_exporter": "python",
   "pygments_lexer": "ipython3",
   "version": "3.12.7"
  }
 },
 "nbformat": 4,
 "nbformat_minor": 2
}
